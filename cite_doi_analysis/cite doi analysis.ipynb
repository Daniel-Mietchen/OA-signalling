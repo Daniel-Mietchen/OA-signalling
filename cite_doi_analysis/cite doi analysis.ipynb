{
 "metadata": {
  "name": "",
  "signature": "sha256:2bad0b1281179794ced0fc21c8dcf75ca0a20b4366a3630ba72670f5b42d3fca"
 },
 "nbformat": 3,
 "nbformat_minor": 0,
 "worksheets": [
  {
   "cells": [
    {
     "cell_type": "markdown",
     "metadata": {},
     "source": [
      "The data flow for this project requires several files:\n",
      "1. getting a list of doi, for which there is doi_extract.py which runs on a wikipedia data dump using the mediawiki-utilities package by halfak\n",
      "1. getting the page views. for each page in th doi_list.txt we need to get the page views. I have done this in a janky way, but it is outlined in the Get pageviews ipython notebook."
     ]
    },
    {
     "cell_type": "code",
     "collapsed": false,
     "input": [
      "import json\n",
      "import re\n",
      "import operator\n",
      "from collections import defaultdict\n",
      "import pandas as pd"
     ],
     "language": "python",
     "metadata": {},
     "outputs": [],
     "prompt_number": 1
    },
    {
     "cell_type": "code",
     "collapsed": false,
     "input": [
      "ls"
     ],
     "language": "python",
     "metadata": {},
     "outputs": [
      {
       "output_type": "stream",
       "stream": "stdout",
       "text": [
        "cite doi analysis.ipynb     page_views_all.json\r\n",
        "doi_list.txt                page_views_errors.json\r\n",
        "doi_page_titles.json        page_views.json\r\n",
        "doi_page_views.json         page_views.json~\r\n",
        "dumpfile.html               README.md\r\n",
        "Finding DOIs example.ipynb  research questions.txt\r\n",
        "Get Pageviews.ipynb         testfile.compressed.1000meg\r\n",
        "LICENSE\r\n"
       ]
      }
     ],
     "prompt_number": 2
    },
    {
     "cell_type": "code",
     "collapsed": false,
     "input": [
      "doi_list = open('doi_list.txt')"
     ],
     "language": "python",
     "metadata": {},
     "outputs": [],
     "prompt_number": 3
    },
    {
     "cell_type": "code",
     "collapsed": false,
     "input": [
      "doi_lines = doi_list.readlines()"
     ],
     "language": "python",
     "metadata": {},
     "outputs": [],
     "prompt_number": 4
    },
    {
     "cell_type": "code",
     "collapsed": false,
     "input": [
      "len(doi_lines)"
     ],
     "language": "python",
     "metadata": {},
     "outputs": [
      {
       "metadata": {},
       "output_type": "pyout",
       "prompt_number": 5,
       "text": [
        "27182"
       ]
      }
     ],
     "prompt_number": 5
    },
    {
     "cell_type": "code",
     "collapsed": false,
     "input": [
      "page_dois = defaultdict(list)\n",
      "doi_pages = defaultdict(list)\n",
      "prefixes = defaultdict(int)"
     ],
     "language": "python",
     "metadata": {},
     "outputs": [],
     "prompt_number": 6
    },
    {
     "cell_type": "code",
     "collapsed": false,
     "input": [
      "for line in doi_lines:\n",
      "    parts = re.split(r'\\t|\\n', line)\n",
      "    page_title = parts[0]\n",
      "    doi = parts[1].strip()\n",
      "    #if len(doi) != len(parts[1]):\n",
      "    #    print(parts[1], doi)\n",
      "    if doi and (doi.lower() != 'noedit'):\n",
      "        page_dois[page_title].append(doi)\n",
      "        doi_pages[doi].append(page_title)\n",
      "        prefix = doi.split('/')[0]\n",
      "        prefixes[prefix] += 1"
     ],
     "language": "python",
     "metadata": {},
     "outputs": [],
     "prompt_number": 7
    },
    {
     "cell_type": "code",
     "collapsed": false,
     "input": [
      "for doi, pages in doi_pages.iteritems():\n",
      "    if doi.startswith(' '):\n",
      "        print(doi, doi.strip())"
     ],
     "language": "python",
     "metadata": {},
     "outputs": [],
     "prompt_number": 8
    },
    {
     "cell_type": "code",
     "collapsed": false,
     "input": [
      "num_page_dois = {page: len(dois) for page, dois in page_dois.iteritems()}\n",
      "num_doi_pages = {doi: len(pages) for doi, pages in doi_pages.iteritems()}"
     ],
     "language": "python",
     "metadata": {},
     "outputs": [],
     "prompt_number": 9
    },
    {
     "cell_type": "code",
     "collapsed": false,
     "input": [
      "npd = pd.DataFrame.from_dict(data=num_page_dois, orient='index')\n",
      "ndp = pd.DataFrame.from_dict(data=num_doi_pages, orient='index')\n",
      "prefixdf = pd.DataFrame.from_dict(data=prefixes, orient='index')"
     ],
     "language": "python",
     "metadata": {},
     "outputs": [],
     "prompt_number": 10
    },
    {
     "cell_type": "code",
     "collapsed": false,
     "input": [
      "npdc = npd.convert_objects(convert_numeric=True)\n",
      "ndpc = ndp.convert_objects(convert_numeric=True)\n",
      "prefixdfc = prefixdf.convert_objects(convert_numeric=True)"
     ],
     "language": "python",
     "metadata": {},
     "outputs": [],
     "prompt_number": 11
    },
    {
     "cell_type": "code",
     "collapsed": false,
     "input": [
      "npdc.sort([0], ascending=False).head(20)"
     ],
     "language": "python",
     "metadata": {},
     "outputs": [
      {
       "html": [
        "<div style=\"max-height:1000px;max-width:1500px;overflow:auto;\">\n",
        "<table border=\"1\" class=\"dataframe\">\n",
        "  <thead>\n",
        "    <tr style=\"text-align: right;\">\n",
        "      <th></th>\n",
        "      <th>0</th>\n",
        "    </tr>\n",
        "  </thead>\n",
        "  <tbody>\n",
        "    <tr>\n",
        "      <th>Induced stem cells</th>\n",
        "      <td> 189</td>\n",
        "    </tr>\n",
        "    <tr>\n",
        "      <th>List of Ig Nobel Prize winners</th>\n",
        "      <td>  91</td>\n",
        "    </tr>\n",
        "    <tr>\n",
        "      <th>Asymmetric hydrogenation</th>\n",
        "      <td>  86</td>\n",
        "    </tr>\n",
        "    <tr>\n",
        "      <th>Spinal muscular atrophy</th>\n",
        "      <td>  84</td>\n",
        "    </tr>\n",
        "    <tr>\n",
        "      <th>Crystallographic defects in diamond</th>\n",
        "      <td>  80</td>\n",
        "    </tr>\n",
        "    <tr>\n",
        "      <th>Fluorine</th>\n",
        "      <td>  78</td>\n",
        "    </tr>\n",
        "    <tr>\n",
        "      <th>Fullerene chemistry</th>\n",
        "      <td>  54</td>\n",
        "    </tr>\n",
        "    <tr>\n",
        "      <th>Choosing Wisely</th>\n",
        "      <td>  50</td>\n",
        "    </tr>\n",
        "    <tr>\n",
        "      <th>Woolly mammoth</th>\n",
        "      <td>  47</td>\n",
        "    </tr>\n",
        "    <tr>\n",
        "      <th>Health effects of tobacco</th>\n",
        "      <td>  43</td>\n",
        "    </tr>\n",
        "    <tr>\n",
        "      <th>Management of schizophrenia</th>\n",
        "      <td>  40</td>\n",
        "    </tr>\n",
        "    <tr>\n",
        "      <th>2-Norbornyl cation</th>\n",
        "      <td>  39</td>\n",
        "    </tr>\n",
        "    <tr>\n",
        "      <th>Wolff\u2013Kishner reduction</th>\n",
        "      <td>  39</td>\n",
        "    </tr>\n",
        "    <tr>\n",
        "      <th>Hunterian Society</th>\n",
        "      <td>  37</td>\n",
        "    </tr>\n",
        "    <tr>\n",
        "      <th>Nanogenerator</th>\n",
        "      <td>  37</td>\n",
        "    </tr>\n",
        "    <tr>\n",
        "      <th>Fluid queue</th>\n",
        "      <td>  36</td>\n",
        "    </tr>\n",
        "    <tr>\n",
        "      <th>American White Ibis</th>\n",
        "      <td>  35</td>\n",
        "    </tr>\n",
        "    <tr>\n",
        "      <th>Phenols</th>\n",
        "      <td>  33</td>\n",
        "    </tr>\n",
        "    <tr>\n",
        "      <th>Moroccan genetics</th>\n",
        "      <td>  32</td>\n",
        "    </tr>\n",
        "    <tr>\n",
        "      <th>Assisted colonization</th>\n",
        "      <td>  32</td>\n",
        "    </tr>\n",
        "  </tbody>\n",
        "</table>\n",
        "<p>20 rows \u00d7 1 columns</p>\n",
        "</div>"
       ],
       "metadata": {},
       "output_type": "pyout",
       "prompt_number": 30,
       "text": [
        "                                       0\n",
        "Induced stem cells                   189\n",
        "List of Ig Nobel Prize winners        91\n",
        "Asymmetric hydrogenation              86\n",
        "Spinal muscular atrophy               84\n",
        "Crystallographic defects in diamond   80\n",
        "Fluorine                              78\n",
        "Fullerene chemistry                   54\n",
        "Choosing Wisely                       50\n",
        "Woolly mammoth                        47\n",
        "Health effects of tobacco             43\n",
        "Management of schizophrenia           40\n",
        "2-Norbornyl cation                    39\n",
        "Wolff\u2013Kishner reduction               39\n",
        "Hunterian Society                     37\n",
        "Nanogenerator                         37\n",
        "Fluid queue                           36\n",
        "American White Ibis                   35\n",
        "Phenols                               33\n",
        "Moroccan genetics                     32\n",
        "Assisted colonization                 32\n",
        "\n",
        "[20 rows x 1 columns]"
       ]
      }
     ],
     "prompt_number": 30
    },
    {
     "cell_type": "code",
     "collapsed": false,
     "input": [
      "print npdc.sort([0], ascending=False).head(10).to_html(justify='left')"
     ],
     "language": "python",
     "metadata": {},
     "outputs": [
      {
       "output_type": "stream",
       "stream": "stdout",
       "text": [
        "<table border=\"1\" class=\"dataframe\">\n",
        "  <thead>\n",
        "    <tr style=\"text-align: left;\">\n",
        "      <th></th>\n",
        "      <th>0</th>\n",
        "    </tr>\n",
        "  </thead>\n",
        "  <tbody>\n",
        "    <tr>\n",
        "      <th>Induced stem cells</th>\n",
        "      <td> 189</td>\n",
        "    </tr>\n",
        "    <tr>\n",
        "      <th>List of Ig Nobel Prize winners</th>\n",
        "      <td>  91</td>\n",
        "    </tr>\n",
        "    <tr>\n",
        "      <th>Asymmetric hydrogenation</th>\n",
        "      <td>  86</td>\n",
        "    </tr>\n",
        "    <tr>\n",
        "      <th>Spinal muscular atrophy</th>\n",
        "      <td>  84</td>\n",
        "    </tr>\n",
        "    <tr>\n",
        "      <th>Crystallographic defects in diamond</th>\n",
        "      <td>  80</td>\n",
        "    </tr>\n",
        "    <tr>\n",
        "      <th>Fluorine</th>\n",
        "      <td>  78</td>\n",
        "    </tr>\n",
        "    <tr>\n",
        "      <th>Fullerene chemistry</th>\n",
        "      <td>  54</td>\n",
        "    </tr>\n",
        "    <tr>\n",
        "      <th>Choosing Wisely</th>\n",
        "      <td>  50</td>\n",
        "    </tr>\n",
        "    <tr>\n",
        "      <th>Woolly mammoth</th>\n",
        "      <td>  47</td>\n",
        "    </tr>\n",
        "    <tr>\n",
        "      <th>Health effects of tobacco</th>\n",
        "      <td>  43</td>\n",
        "    </tr>\n",
        "  </tbody>\n",
        "</table>\n"
       ]
      }
     ],
     "prompt_number": 12
    },
    {
     "cell_type": "code",
     "collapsed": false,
     "input": [
      "print ndpc.sort([0], ascending=False).head(11).to_html(justify='left')"
     ],
     "language": "python",
     "metadata": {},
     "outputs": [
      {
       "output_type": "stream",
       "stream": "stdout",
       "text": [
        "<table border=\"1\" class=\"dataframe\">\n",
        "  <thead>\n",
        "    <tr style=\"text-align: left;\">\n",
        "      <th></th>\n",
        "      <th>0</th>\n",
        "    </tr>\n",
        "  </thead>\n",
        "  <tbody>\n",
        "    <tr>\n",
        "      <th>10.1128/MCB.22.19.6663-6668.2002</th>\n",
        "      <td> 171</td>\n",
        "    </tr>\n",
        "    <tr>\n",
        "      <th>10.1093/icb/icr006</th>\n",
        "      <td> 132</td>\n",
        "    </tr>\n",
        "    <tr>\n",
        "      <th>10.1093/nar/gkj002</th>\n",
        "      <td>  75</td>\n",
        "    </tr>\n",
        "    <tr>\n",
        "      <th>10.1128/MCB.24.13.5797-5807.2004</th>\n",
        "      <td>  66</td>\n",
        "    </tr>\n",
        "    <tr>\n",
        "      <th>10.1088.2F0004-6256.2F141.2F5.2F170</th>\n",
        "      <td>  64</td>\n",
        "    </tr>\n",
        "    <tr>\n",
        "      <th>10.1093/emboj/20.11.2943</th>\n",
        "      <td>  50</td>\n",
        "    </tr>\n",
        "    <tr>\n",
        "      <th>10.1088/0004-637X/753/2/156</th>\n",
        "      <td>  38</td>\n",
        "    </tr>\n",
        "    <tr>\n",
        "      <th>10.1088/0067-0049/197/2/19</th>\n",
        "      <td>  33</td>\n",
        "    </tr>\n",
        "    <tr>\n",
        "      <th>accessdate = 2012-10-25</th>\n",
        "      <td>  30</td>\n",
        "    </tr>\n",
        "    <tr>\n",
        "      <th>10.3897/zookeys.242.3856</th>\n",
        "      <td>  28</td>\n",
        "    </tr>\n",
        "    <tr>\n",
        "      <th>10.1073/pnas.242603899</th>\n",
        "      <td>  27</td>\n",
        "    </tr>\n",
        "  </tbody>\n",
        "</table>\n"
       ]
      }
     ],
     "prompt_number": 13
    },
    {
     "cell_type": "code",
     "collapsed": false,
     "input": [
      "print ndpc.sort([0], ascending=False).head(11).index"
     ],
     "language": "python",
     "metadata": {},
     "outputs": [
      {
       "output_type": "stream",
       "stream": "stdout",
       "text": [
        "Index([u'10.1128/MCB.22.19.6663-6668.2002', u'10.1093/icb/icr006', u'10.1093/nar/gkj002', u'10.1128/MCB.24.13.5797-5807.2004', u'10.1088.2F0004-6256.2F141.2F5.2F170', u'10.1093/emboj/20.11.2943', u'10.1088/0004-637X/753/2/156', u'10.1088/0067-0049/197/2/19', u'accessdate = 2012-10-25', u'10.3897/zookeys.242.3856', u'10.1073/pnas.242603899'], dtype='object')\n"
       ]
      }
     ],
     "prompt_number": 14
    },
    {
     "cell_type": "code",
     "collapsed": false,
     "input": [
      "print prefixdf.sort([0], ascending=False).head(10).to_html()"
     ],
     "language": "python",
     "metadata": {},
     "outputs": [
      {
       "output_type": "stream",
       "stream": "stdout",
       "text": [
        "<table border=\"1\" class=\"dataframe\">\n",
        "  <thead>\n",
        "    <tr style=\"text-align: right;\">\n",
        "      <th></th>\n",
        "      <th>0</th>\n",
        "    </tr>\n",
        "  </thead>\n",
        "  <tbody>\n",
        "    <tr>\n",
        "      <th>10.1016</th>\n",
        "      <td> 3398</td>\n",
        "    </tr>\n",
        "    <tr>\n",
        "      <th>10.1038</th>\n",
        "      <td> 1879</td>\n",
        "    </tr>\n",
        "    <tr>\n",
        "      <th>10.1007</th>\n",
        "      <td> 1793</td>\n",
        "    </tr>\n",
        "    <tr>\n",
        "      <th>10.1098</th>\n",
        "      <td> 1716</td>\n",
        "    </tr>\n",
        "    <tr>\n",
        "      <th>10.1111</th>\n",
        "      <td> 1350</td>\n",
        "    </tr>\n",
        "    <tr>\n",
        "      <th>10.1093</th>\n",
        "      <td> 1203</td>\n",
        "    </tr>\n",
        "    <tr>\n",
        "      <th>10.1002</th>\n",
        "      <td>  960</td>\n",
        "    </tr>\n",
        "    <tr>\n",
        "      <th>10.1021</th>\n",
        "      <td>  873</td>\n",
        "    </tr>\n",
        "    <tr>\n",
        "      <th>10.1126</th>\n",
        "      <td>  821</td>\n",
        "    </tr>\n",
        "    <tr>\n",
        "      <th>10.1080</th>\n",
        "      <td>  704</td>\n",
        "    </tr>\n",
        "  </tbody>\n",
        "</table>\n"
       ]
      }
     ],
     "prompt_number": 15
    },
    {
     "cell_type": "code",
     "collapsed": false,
     "input": [
      "page_views_list = json.load(open('page_views_all.json', 'r'))\n",
      "page_views = {i[0]: i[1] for i in page_views_list}\n",
      "\n",
      "def total_page_views(page_list):\n",
      "    view_count = 0\n",
      "    for page in page_list:\n",
      "        try:\n",
      "            view_count += page_views[page.decode('utf-8')]\n",
      "        except:\n",
      "            pass\n",
      "            #print(page)\n",
      "    return view_count\n",
      "\n",
      "doi_views = {doi: total_page_views(page_list) for doi, page_list in doi_pages.iteritems() }\n",
      "viewsdf = pd.DataFrame.from_dict(data=doi_views, orient='index')\n"
     ],
     "language": "python",
     "metadata": {},
     "outputs": [],
     "prompt_number": 16
    },
    {
     "cell_type": "code",
     "collapsed": false,
     "input": [
      "print viewsdf.sort([0], ascending=False).head(10).to_html()"
     ],
     "language": "python",
     "metadata": {},
     "outputs": [
      {
       "output_type": "stream",
       "stream": "stdout",
       "text": [
        "<table border=\"1\" class=\"dataframe\">\n",
        "  <thead>\n",
        "    <tr style=\"text-align: right;\">\n",
        "      <th></th>\n",
        "      <th>0</th>\n",
        "    </tr>\n",
        "  </thead>\n",
        "  <tbody>\n",
        "    <tr>\n",
        "      <th>10.1038/460787a</th>\n",
        "      <td> 2767151</td>\n",
        "    </tr>\n",
        "    <tr>\n",
        "      <th>10.1038/462545a</th>\n",
        "      <td> 2766979</td>\n",
        "    </tr>\n",
        "    <tr>\n",
        "      <th>10.1353/cwh.1969.0065</th>\n",
        "      <td> 1382286</td>\n",
        "    </tr>\n",
        "    <tr>\n",
        "      <th>10.1145/1284621.1284635</th>\n",
        "      <td> 1313264</td>\n",
        "    </tr>\n",
        "    <tr>\n",
        "      <th>10.1371/journal.pone.0028705</th>\n",
        "      <td> 1216279</td>\n",
        "    </tr>\n",
        "    <tr>\n",
        "      <th>10.1126/science.1173983</th>\n",
        "      <td>  704326</td>\n",
        "    </tr>\n",
        "    <tr>\n",
        "      <th>10.1038/nature06949</th>\n",
        "      <td>  646251</td>\n",
        "    </tr>\n",
        "    <tr>\n",
        "      <th>10.1073/pnas.0805721105</th>\n",
        "      <td>  646251</td>\n",
        "    </tr>\n",
        "    <tr>\n",
        "      <th>10.1080/10807030802387556</th>\n",
        "      <td>  624108</td>\n",
        "    </tr>\n",
        "    <tr>\n",
        "      <th>10.1098/rsbm.1955.0005</th>\n",
        "      <td>  544353</td>\n",
        "    </tr>\n",
        "  </tbody>\n",
        "</table>\n"
       ]
      }
     ],
     "prompt_number": 18
    },
    {
     "cell_type": "code",
     "collapsed": false,
     "input": [
      "%pylab inline"
     ],
     "language": "python",
     "metadata": {},
     "outputs": [
      {
       "output_type": "stream",
       "stream": "stdout",
       "text": [
        "Populating the interactive namespace from numpy and matplotlib\n"
       ]
      }
     ],
     "prompt_number": 23
    },
    {
     "cell_type": "code",
     "collapsed": false,
     "input": [
      "npd.describe()"
     ],
     "language": "python",
     "metadata": {},
     "outputs": [
      {
       "html": [
        "<div style=\"max-height:1000px;max-width:1500px;overflow:auto;\">\n",
        "<table border=\"1\" class=\"dataframe\">\n",
        "  <thead>\n",
        "    <tr style=\"text-align: right;\">\n",
        "      <th></th>\n",
        "      <th>0</th>\n",
        "    </tr>\n",
        "  </thead>\n",
        "  <tbody>\n",
        "    <tr>\n",
        "      <th>count</th>\n",
        "      <td> 11101.000000</td>\n",
        "    </tr>\n",
        "    <tr>\n",
        "      <th>mean</th>\n",
        "      <td>     2.319791</td>\n",
        "    </tr>\n",
        "    <tr>\n",
        "      <th>std</th>\n",
        "      <td>     3.955982</td>\n",
        "    </tr>\n",
        "    <tr>\n",
        "      <th>min</th>\n",
        "      <td>     1.000000</td>\n",
        "    </tr>\n",
        "    <tr>\n",
        "      <th>25%</th>\n",
        "      <td>     1.000000</td>\n",
        "    </tr>\n",
        "    <tr>\n",
        "      <th>50%</th>\n",
        "      <td>     1.000000</td>\n",
        "    </tr>\n",
        "    <tr>\n",
        "      <th>75%</th>\n",
        "      <td>     2.000000</td>\n",
        "    </tr>\n",
        "    <tr>\n",
        "      <th>max</th>\n",
        "      <td>   189.000000</td>\n",
        "    </tr>\n",
        "  </tbody>\n",
        "</table>\n",
        "<p>8 rows \u00d7 1 columns</p>\n",
        "</div>"
       ],
       "metadata": {},
       "output_type": "pyout",
       "prompt_number": 29,
       "text": [
        "                  0\n",
        "count  11101.000000\n",
        "mean       2.319791\n",
        "std        3.955982\n",
        "min        1.000000\n",
        "25%        1.000000\n",
        "50%        1.000000\n",
        "75%        2.000000\n",
        "max      189.000000\n",
        "\n",
        "[8 rows x 1 columns]"
       ]
      }
     ],
     "prompt_number": 29
    },
    {
     "cell_type": "code",
     "collapsed": false,
     "input": [
      "len(npdc[npdc[0] == 1]) / float(len(npdc))"
     ],
     "language": "python",
     "metadata": {},
     "outputs": [
      {
       "metadata": {},
       "output_type": "pyout",
       "prompt_number": 42,
       "text": [
        "0.605981443113233"
       ]
      }
     ],
     "prompt_number": 42
    },
    {
     "cell_type": "code",
     "collapsed": false,
     "input": [
      "p = npd.hist(bins=40, log=True)\n"
     ],
     "language": "python",
     "metadata": {},
     "outputs": [
      {
       "ename": "AttributeError",
       "evalue": "'numpy.ndarray' object has no attribute 'title'",
       "output_type": "pyerr",
       "traceback": [
        "\u001b[1;31m---------------------------------------------------------------------------\u001b[0m\n\u001b[1;31mAttributeError\u001b[0m                            Traceback (most recent call last)",
        "\u001b[1;32m<ipython-input-35-ff2de86e1116>\u001b[0m in \u001b[0;36m<module>\u001b[1;34m()\u001b[0m\n\u001b[0;32m      1\u001b[0m \u001b[0mp\u001b[0m \u001b[1;33m=\u001b[0m \u001b[0mnpd\u001b[0m\u001b[1;33m.\u001b[0m\u001b[0mhist\u001b[0m\u001b[1;33m(\u001b[0m\u001b[0mbins\u001b[0m\u001b[1;33m=\u001b[0m\u001b[1;36m40\u001b[0m\u001b[1;33m,\u001b[0m \u001b[0mlog\u001b[0m\u001b[1;33m=\u001b[0m\u001b[0mTrue\u001b[0m\u001b[1;33m)\u001b[0m\u001b[1;33m\u001b[0m\u001b[0m\n\u001b[1;32m----> 2\u001b[1;33m \u001b[0mp\u001b[0m\u001b[1;33m.\u001b[0m\u001b[0mtitle\u001b[0m\u001b[1;33m(\u001b[0m\u001b[1;34m'DOI citations among Wikipedia articles'\u001b[0m\u001b[1;33m)\u001b[0m\u001b[1;33m\u001b[0m\u001b[0m\n\u001b[0m",
        "\u001b[1;31mAttributeError\u001b[0m: 'numpy.ndarray' object has no attribute 'title'"
       ]
      },
      {
       "metadata": {},
       "output_type": "display_data",
       "png": "[encoded data removed]",
       "text": [
        "<matplotlib.figure.Figure at 0x668c7d0>"
       ]
      }
     ],
     "prompt_number": 35
    },
    {
     "cell_type": "code",
     "collapsed": false,
     "input": [],
     "language": "python",
     "metadata": {},
     "outputs": []
    }
   ],
   "metadata": {}
  }
 ]
}