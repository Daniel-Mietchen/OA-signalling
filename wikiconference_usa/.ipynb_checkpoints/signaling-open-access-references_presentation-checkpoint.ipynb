{
 "metadata": {
  "celltoolbar": "Slideshow",
  "name": "",
  "signature": "sha256:3c07295a1934f0b8d59d8139d02e4d52ebc34bd8262a167c2ff4cbf155224a16"
 },
 "nbformat": 3,
 "nbformat_minor": 0,
 "worksheets": [
  {
   "cells": [
    {
     "cell_type": "markdown",
     "metadata": {
      "slideshow": {
       "slide_type": "slide"
      }
     },
     "source": [
      "<div style=\"font-size:72px;line-height:80px;padding:50px;\">_\"A fact is only as reliable as the ability to source that fact, and the ability to weigh carefully that source.\"_ <sup>[\\[1\\]](https://meta.wikimedia.org/wiki/WikiScholar#Motivation)</sup></div>"
     ]
    },
    {
     "cell_type": "markdown",
     "metadata": {
      "slideshow": {
       "slide_type": "slide"
      }
     },
     "source": [
      "<div style=\"font-size:50px;line-height:80px;padding:50px;\">Introductions</div>"
     ]
    },
    {
     "cell_type": "markdown",
     "metadata": {
      "slideshow": {
       "slide_type": "slide"
      }
     },
     "source": [
      "<div style=\"font-size:50px;line-height:80px;padding:50px;\">Who's in the room?</div>"
     ]
    },
    {
     "cell_type": "markdown",
     "metadata": {
      "slideshow": {
       "slide_type": "slide"
      }
     },
     "source": [
      "<div style=\"font-size:50px;line-height:80px;padding:50px;\">WikiProject Open Access <sup>[\\[1\\]](https://en.wikipedia.org/wiki/Wikipedia:WikiProject_Open_Access)</sup></div>"
     ]
    },
    {
     "cell_type": "markdown",
     "metadata": {
      "slideshow": {
       "slide_type": "slide"
      }
     },
     "source": [
      "<div style=\"width:99%;margin:auto;\">\n",
      "<div style=\"width:49%;float:left;\"><video src=\"images/PhD_Comics_Open_Access_Week_2012.ogv\" controls style=\"width:99%;\"><p>Video not working at the moment, sorry! ;)</p></video><br/>[Source](https://commons.wikimedia.org/wiki/File:PhD_Comics_Open_Access_Week_2012.ogv)</div>\n",
      "<div style=\"width:49%;float:right;\"><img src=\"images/Open_Access_logo_PLoS_white.svg\" style=\"max-height:600px;\">\n",
      "[Source](https://commons.wikimedia.org/wiki/File:Open_Access_logo_PLoS_white.svg)</div>\n",
      "</div>"
     ]
    },
    {
     "cell_type": "markdown",
     "metadata": {
      "slideshow": {
       "slide_type": "slide"
      }
     },
     "source": [
      "<div style=\"font-size:50px;line-height:80px;padding:50px;\">Signalling Open Access References <sup>[\\[1\\]](https://en.wikipedia.org/wiki/Wikipedia:WikiProject_Open_Access/Signalling_OA-ness)</sup></div>"
     ]
    },
    {
     "cell_type": "markdown",
     "metadata": {
      "slideshow": {
       "slide_type": "slide"
      }
     },
     "source": [
      "<div style=\"width:99%;margin:auto;\">\n",
      "![In a Nutshell sample of reference signals](images/oa-signalling_in-a-nutshell_screenshot.png)\n",
      "[OA-Signalling Project](https://en.wikipedia.org/wiki/Wikipedia:WikiProject_Open_Access/Signalling_OA-ness) under WikiProject Open Access\n",
      "</div>"
     ]
    },
    {
     "cell_type": "markdown",
     "metadata": {
      "slideshow": {
       "slide_type": "slide"
      }
     },
     "source": [
      "<div style=\"text-align:center;padding:200px 0 200px 0;font-size:300px;\">&#9424;</div>"
     ]
    },
    {
     "cell_type": "markdown",
     "metadata": {
      "slideshow": {
       "slide_type": "slide"
      }
     },
     "source": [
      "<div style=\"width:99%;margin:auto;\">\n",
      "<div style=\"width:25%;float:left;\"><img src=\"images/wikipedia.jpg\"></div>\n",
      "<div style=\"width:25%;float:left;\"><img src=\"images/wikiquote.jpg\"></div>\n",
      "<div style=\"width:25%;float:left;\"><img src=\"images/wikisource.jpg\"></div>\n",
      "<div style=\"width:25%;float:left;\"><img src=\"images/wikivoyage.jpg\"></div>\n",
      "</div>\n"
     ]
    },
    {
     "cell_type": "markdown",
     "metadata": {
      "slideshow": {
       "slide_type": "slide"
      }
     },
     "source": [
      "<div style=\"margin:auto;width:99%\">\n",
      "<div style=\"width:49%;float:left;\"><img src=\"images/plane_icons_magazine.jpg\"></div>\n",
      "<div style=\"width:49%;float:left;\"><img src=\"images/plane_icons_toilet.jpg\"></div>\n",
      "</div>"
     ]
    },
    {
     "cell_type": "markdown",
     "metadata": {
      "slideshow": {
       "slide_type": "slide"
      }
     },
     "source": [
      "<div style=\"font-size:50px;line-height:80px;padding:50px;\">What's the _problem?_</div>"
     ]
    },
    {
     "cell_type": "markdown",
     "metadata": {
      "slideshow": {
       "slide_type": "slide"
      }
     },
     "source": [
      "<div style=\"font-size:50px;line-height:80px;padding:50px;\">What are _solutions_ (past &amp; present)?</div>"
     ]
    },
    {
     "cell_type": "markdown",
     "metadata": {
      "slideshow": {
       "slide_type": "slide"
      }
     },
     "source": [
      "<div style=\"font-size:50px;line-height:80px;padding:50px;\">Opportunities (more than solutions)</div>"
     ]
    },
    {
     "cell_type": "markdown",
     "metadata": {
      "slideshow": {
       "slide_type": "slide"
      }
     },
     "source": [
      "<div style=\"font-size:50px;line-height:80px;padding:50px;\">Visions of the Future</div>"
     ]
    },
    {
     "cell_type": "markdown",
     "metadata": {
      "slideshow": {
       "slide_type": "slide"
      }
     },
     "source": [
      "<div style=\"font-size:50px;line-height:80px;padding:50px;\">Next Steps</div>"
     ]
    },
    {
     "cell_type": "code",
     "collapsed": false,
     "input": [
      "%load presentation_notes.md"
     ],
     "language": "python",
     "metadata": {
      "slideshow": {
       "slide_type": "skip"
      }
     },
     "outputs": [],
     "prompt_number": 5
    },
    {
     "cell_type": "markdown",
     "metadata": {
      "slideshow": {
       "slide_type": "skip"
      }
     },
     "source": [
      "# WikiProject Open Access - OA Signalling\n",
      "\n",
      "Presentation organized for 2014 WikiConference USA in New York City, New York.\n",
      "\n",
      "## Format\n",
      "\n",
      "* Hopefully written in markdown or similar plain-text, html-compatible format\n",
      "* Presented using iPython Notebook, or some other web-based alternative.\n",
      "** PDF fall-back is wise based on constraints of presentation room projector/computer.\n",
      "\n",
      "## Outcomes\n",
      "\n",
      "Not absolutes, but setting scope of expectations for the parties involved\n",
      "\n",
      "### Attendees / Participants\n",
      "\n",
      "* Basics\n",
      "    * Learn the history and basics about WikiProject Open Access and the OA Signalling project.\n",
      "        * Know the definition of Open Access\n",
      "        * Know how open access, the wikiproject, and the signalling project all fit in to the context of Wikipedia\n",
      "    * Become familiar with current demonstration of signalling under \"In a Nutshell\" section of project page on WP.\n",
      "* Status and Roadmap\n",
      "    * Be able to summarize the current status of the project.\n",
      "    * Review the currently planned flow of information, and how to work with existing communities to make it happen.\n",
      "    * Have an understanding of the general roadmap, including timeline/schedule and longer-term goals, for the project.\n",
      "* Participation Paths\n",
      "    * Learn the clear ways to participate in, build from, or otherwise lend support to this project.\n",
      "* Tools and Infrastructure\n",
      "    * Be able to define the tools being used to manage and build this project, and explain their use in context.\n",
      "    * Build a vocabulary to discuss projects of this general nature.\n",
      "        * E.g. include new Labs infrastructure, along with github, and wikipedia itself through the wikiproject.\n",
      "* Related Projects\n",
      "    * Hold an over-arching narrative of how this project fits into the wider theme of citations/references on WP.\n",
      "    * Maintain awareness of VisualEditor project component on reference management directions / potential / collaboration\n",
      "        * Zotero-server fetching via ajax requests in the browser.\n",
      "    * Become familiar with WikiData, its progress and emerging role for data across projects\n",
      "        * Scholarly works (open access) inclusivity\n",
      "    * OA Button\n",
      "    * New icon designs!\n",
      "* Hands-on\n",
      "    * Join WikiProject Open Access, or some other wikiproject.\n",
      "    * Sign up for github, or some other git hosting service like GitLab or Gitorious.\n",
      "    * Install git, and git hosting service client on your local computer.\n",
      "    * Introduction or advanced usage of PyWikiBot, python scripting with MediaWiki, programming generally, etc.\n",
      "* Extras\n",
      "    * Build basic comprehension of the \"hacker ethic\" w/r/t the nature of this project.\n",
      "\n",
      "### Presenters / Facilitators\n",
      "\n",
      "* Get an understanding of how the project is best communicated to Wiki-savvy _and_ general audiences.\n",
      "* Get updates about any existing projects that attendees know about, that we don't currently know.\n",
      "* Get feedback, both solicited and un-solicited from wiki-enthusiasts who attend WikiConference USA.\n",
      "    * Learn how to best respond to this feedback.\n",
      "    * Learn to incorporate this feedback into further plans, development, progress, etc.\n",
      "* Brainstorm ideas and overlap with other initiatives\n",
      "* Become comfortable opening doors to participate, as well as simply listening and benefiting from the contribution of participating in our session.\n",
      "\n",
      "## Free-form Summary\n",
      "\n",
      "Start off by getting familiar with the attendees. Isn't clear who and how many are going to join, but we should anticipate being flexible and scoping our time to the people who are present. Very few attendees promotes a closer, informal discussion. Many attendees may promote having a larger, more formal presentation component, as well as potentially small-group discussion or hands-on components. Generally it's important for us to cater to the experience, interests, and needs of the attendees. They will be able to provide us early, invaluable feedback on our project&mdash;even if that feedback is a lack of clarity or comprehension (implying, for example, that we should focus on clarity going forward).\n",
      "\n",
      "Overall, we should situate our project in the narrative of improving references / citations on Wikipedia. We're all about improving the experience of editing, and supporting the various communities of Wikipedia and its sister projects to create deep, connected, and flexibly consumed resources. We have focused our project on minimal goals in order to make the case for various small improvements that may one day be expanded into more comprehensive workflows. Our presentation should include a narrative arch:\n",
      "\n",
      "* What's the problem?\n",
      "* What we did we try in the past?\n",
      "* What worked, what didn't?\n",
      "* What are the solutions we see now?\n",
      "* What does the future look like?\n",
      "* What do we do starting now?\n",
      "\n",
      "## Outline\n",
      "\n",
      "1. Introductions\n",
      "    * What do you spend your time doing, On-wiki and off-wiki?\n",
      "1. Skill-level and familiarity assessment\n",
      "    * Raise your hand if:\n",
      "        * You are familiar with (wiki world):\n",
      "            * Wikipedia ;)\n",
      "            * WikiSource\n",
      "            * Wikimedia Commons\n",
      "            * WikiData\n",
      "            * Labs\n",
      "            * Scholarly publishing generally\n",
      "            * Open Access academic literature\n",
      "        * You have heard about the OA-Signalling project\n",
      "        * You are a member of WikiProject Open Access\n",
      "        * You have heard of Wikiproject Open Access\n",
      "        * You have a working knowledge of (technical stuff):\n",
      "            * MediaWiki (wiki software)\n",
      "            * Bots for Wikipedia, other Wikimedia projects (various wares)\n",
      "            * Python (programming language)\n",
      "            * PyWikiBot (python library)\n",
      "            * XSLT (xml style templating)\n",
      "            * JATS (NLM xml format)\n",
      "1. WikiProject Open Access\n",
      "    * Open Access generally\n",
      "    * Wikipedia, WikiProjects, and the goals of WikiProject Open Access\n",
      "    * Signalling OA-ness\n",
      "1. Problems\n",
      "1. Solutions\n",
      "    * Previous attempts\n",
      "        * Successes\n",
      "        * Failures\n",
      "    * Current solutions\n",
      "1. Opportunities\n",
      "    * How OA-signalling project provides partial solution, uses opportunities, and opens up opportunities.\n",
      "    * Other projects opening opportunties here.\n",
      "1. The Future\n",
      "    * Visions\n",
      "    * Longer-term roadmap for OA-signalling and WikiProject Open Access\n",
      "1. Next Steps\n",
      "    * How to participate / support\n",
      "1. Hands-on Component\n",
      "    * Time-permitted workshopping based on areas of interest, skill.\n",
      "        * Install OA Button\n"
     ]
    }
   ],
   "metadata": {}
  }
 ]
}