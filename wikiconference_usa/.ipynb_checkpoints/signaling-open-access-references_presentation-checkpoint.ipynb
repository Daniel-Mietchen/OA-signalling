{
 "metadata": {
  "name": "",
  "signature": "sha256:8b5d7c11284ada51721be6639749c3522ccf96f7e03dd718071114a4de4d3174"
 },
 "nbformat": 3,
 "nbformat_minor": 0,
 "worksheets": [
  {
   "cells": [
    {
     "cell_type": "markdown",
     "metadata": {},
     "source": [
      "<span style=\"font-size:60px;line-height:72px;\">\"_A fact is only as reliable as the ability to source that fact, and the ability to weigh carefully that source.\"_ <sup>[\\[1\\]](https://meta.wikimedia.org/wiki/WikiScholar#Motivation)</sup></span>"
     ]
    }
   ],
   "metadata": {}
  }
 ]
}