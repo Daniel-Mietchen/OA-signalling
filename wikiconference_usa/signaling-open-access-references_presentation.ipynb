{
 "metadata": {
  "name": "",
  "signature": "sha256:a9a21c8f396d8ccd75c87ddd8330fd144ac1884f4575367c6f56ddd8c071a09a"
 },
 "nbformat": 3,
 "nbformat_minor": 0,
 "worksheets": [
  {
   "cells": [
    {
     "cell_type": "markdown",
     "metadata": {
      "slideshow": {
       "slide_type": "slide"
      }
     },
     "source": [
      "<div style=\"font-size:72px;line-height:80px;padding:50px;\">_\"A fact is only as reliable as the ability to source that fact, and the ability to weigh carefully that source.\"_ <sup>[\\[1\\]](https://meta.wikimedia.org/wiki/WikiScholar#Motivation)</sup></div>"
     ]
    },
    {
     "cell_type": "markdown",
     "metadata": {
      "slideshow": {
       "slide_type": "slide"
      }
     },
     "source": [
      "<div style=\"width:99%;margin:auto;\">\n",
      "![Imagine the books you were looking for in the library actually glowed!](images/Library-shelves-bibliographies-Graz.jpg)\n",
      "[Source](https://commons.wikimedia.org/wiki/File:Library-shelves-bibliographies-Graz.jpg)\n",
      "</div>"
     ]
    },
    {
     "cell_type": "markdown",
     "metadata": {
      "slideshow": {
       "slide_type": "slide"
      }
     },
     "source": [
      "<div style=\"font-size:50px;line-height:80px;padding:50px;\">Introductions</div>"
     ]
    },
    {
     "cell_type": "markdown",
     "metadata": {
      "slideshow": {
       "slide_type": "slide"
      }
     },
     "source": [
      "<div style=\"font-size:50px;line-height:80px;padding:50px;\">What perspectives are in the room?</div>"
     ]
    },
    {
     "cell_type": "markdown",
     "metadata": {
      "slideshow": {
       "slide_type": "notes"
      }
     },
     "source": [
      "* Raise your hand if:\n",
      "    * You are familiar with (wiki world):\n",
      "        * Wikipedia ;)\n",
      "        * WikiSource\n",
      "        * Wikimedia Commons\n",
      "        * WikiData\n",
      "        * Labs\n",
      "        * Scholarly publishing generally\n",
      "        * Open Access academic literature\n",
      "    * You know about Open Access\n",
      "    * You have heard about the OA-Signalling project\n",
      "    * You are a member of WikiProject Open Access\n",
      "    * You have heard of Wikiproject Open Access\n",
      "    * You have a working knowledge of (technical stuff):\n",
      "        * MediaWiki (wiki software)\n",
      "        * Bots for Wikipedia, other Wikimedia projects (various wares)\n",
      "        * Python (programming language)\n",
      "        * PyWikiBot (python library)\n",
      "        * XSLT (xml style templating)\n",
      "        * JATS (NLM xml format)\n"
     ]
    },
    {
     "cell_type": "markdown",
     "metadata": {
      "slideshow": {
       "slide_type": "slide"
      }
     },
     "source": [
      "<div style=\"font-size:50px;line-height:80px;padding:50px;\">WikiProject Open Access <sup>[\\[1\\]](https://en.wikipedia.org/wiki/Wikipedia:WikiProject_Open_Access)</sup></div>\n",
      "\n",
      "##Goals\n",
      "1. Improve Wikimedia content with the help of Open Access materials.\n",
      "2. Improve coverage of Open Access and related topics."
     ]
    },
    {
     "cell_type": "markdown",
     "metadata": {
      "slideshow": {
       "slide_type": "slide"
      }
     },
     "source": [
      "<div style=\"width:99%;margin:auto;\">\n",
      "<div style=\"width:49%;float:left;\"><video src=\"images/PhD_Comics_Open_Access_Week_2012.ogv\" controls style=\"width:99%;\"><p>Video not working at the moment, sorry! ;)</p></video><br/>[Source](https://commons.wikimedia.org/wiki/File:PhD_Comics_Open_Access_Week_2012.ogv)</div>\n",
      "<div style=\"width:49%;float:right;\"><img src=\"images/Open_Access_logo_PLoS_white.svg\" style=\"max-height:600px;\">\n",
      "[Source](https://commons.wikimedia.org/wiki/File:Open_Access_logo_PLoS_white.svg)</div>\n",
      "</div>"
     ]
    },
    {
     "cell_type": "markdown",
     "metadata": {
      "slideshow": {
       "slide_type": "slide"
      }
     },
     "source": [
      "<div style=\"font-size:50px;line-height:80px;padding:50px;\">Signalling Open Access References <sup>[\\[1\\]](https://en.wikipedia.org/wiki/Wikipedia:WikiProject_Open_Access/Signalling_OA-ness)</sup></div>"
     ]
    },
    {
     "cell_type": "markdown",
     "metadata": {
      "slideshow": {
       "slide_type": "slide"
      }
     },
     "source": [
      "<div style=\"width:99%;margin:auto;\">\n",
      "![In a Nutshell sample of reference signals](images/oa-signalling_in-a-nutshell_screenshot.png)\n",
      "[OA-Signalling Project](https://en.wikipedia.org/wiki/Wikipedia:WikiProject_Open_Access/Signalling_OA-ness) under WikiProject Open Access\n",
      "</div>"
     ]
    },
    {
     "cell_type": "markdown",
     "metadata": {
      "slideshow": {
       "slide_type": "slide"
      }
     },
     "source": [
      "<div style=\"margin:auto;width:99%\">\n",
      "<div style=\"width:49%;float:left;\"><img src=\"images/plane_icons_magazine.jpg\"></div>\n",
      "<div style=\"width:49%;float:left;\"><img src=\"images/plane_icons_toilet.jpg\"></div>\n",
      "</div>"
     ]
    },
    {
     "cell_type": "markdown",
     "metadata": {
      "slideshow": {
       "slide_type": "slide"
      }
     },
     "source": [
      "<div style=\"width:99%;margin:auto;\">\n",
      "<div style=\"width:25%;float:left;\"><img src=\"images/wikipedia.jpg\"></div>\n",
      "<div style=\"width:25%;float:left;\"><img src=\"images/wikiquote.jpg\"></div>\n",
      "<div style=\"width:25%;float:left;\"><img src=\"images/wikisource.jpg\"></div>\n",
      "<div style=\"width:25%;float:left;\"><img src=\"images/wikivoyage.jpg\"></div>\n",
      "</div>\n"
     ]
    },
    {
     "cell_type": "markdown",
     "metadata": {
      "slideshow": {
       "slide_type": "slide"
      }
     },
     "source": [
      "<div style=\"text-align:center;padding:200px 0 200px 0;font-size:300px;\">&#9424;</div>"
     ]
    },
    {
     "cell_type": "markdown",
     "metadata": {
      "slideshow": {
       "slide_type": "slide"
      }
     },
     "source": [
      "<div style=\"font-size:50px;line-height:80px;padding:50px;\">What's the _problem?_</div>\n",
      "\n",
      "##Managing Citations is Hard!\n",
      "\n",
      "##Cultural Norm is to Make Knowledge (and Sources) Scarce\n"
     ]
    },
    {
     "cell_type": "markdown",
     "metadata": {
      "slideshow": {
       "slide_type": "slide"
      }
     },
     "source": [
      "<div style=\"font-size:50px;line-height:80px;padding:50px;\">What are _solutions_ (past &amp; present)?</div>\n",
      "\n",
      "## Reference Management\n",
      "* Templates (Many wikis)\n",
      "* Categories (Many wikis)\n",
      "* Namespace (French Wikipedia)\n",
      "* WikiScholar (Closed project proposal)\n",
      "* New VisualEditor with Zotero (Open question)\n",
      "\n",
      "## Open Access (to Knowledge)\n",
      "* WikiSource open to Open Access literature\n",
      "* CitationBot, {{cite-doi}}"
     ]
    },
    {
     "cell_type": "markdown",
     "metadata": {
      "slideshow": {
       "slide_type": "slide"
      }
     },
     "source": [
      "<div style=\"font-size:50px;line-height:80px;padding:50px;\">Opportunities (more than solutions)</div>\n",
      "\n",
      "## Re-open the \"reference management\" thread\n",
      "\n",
      "## Integrate with Wikidata\n",
      "\n",
      "## Forge deep knowledge resources, with full source content\n",
      "\n",
      "## Automate, and use human judgement"
     ]
    },
    {
     "cell_type": "code",
     "collapsed": false,
     "input": [
      "from IPython.display import IFrame\n",
      "IFrame('http://www.wikidata.org/wiki/Help:Sources', width='100%', height=600)"
     ],
     "language": "python",
     "metadata": {
      "slideshow": {
       "slide_type": "slide"
      }
     },
     "outputs": [
      {
       "html": [
        "\n",
        "        <iframe\n",
        "            width=\"100%\"\n",
        "            height=600\"\n",
        "            src=\"http://www.wikidata.org/wiki/Help:Sources\"\n",
        "            frameborder=\"0\"\n",
        "            allowfullscreen\n",
        "        ></iframe>\n",
        "        "
       ],
       "metadata": {},
       "output_type": "pyout",
       "prompt_number": 7,
       "text": [
        "<IPython.lib.display.IFrame at 0x26aaa50>"
       ]
      }
     ],
     "prompt_number": 7
    },
    {
     "cell_type": "markdown",
     "metadata": {
      "slideshow": {
       "slide_type": "slide"
      }
     },
     "source": [
      "<div style=\"font-size:50px;line-height:80px;padding:50px;\">Visions of the Future</div>\n",
      "\n",
      "# Imagine a world where...\n",
      "* Adding references (even across projects) is _very easy_ and even _pleasurable_\n",
      "* The Wikipedia corpus is deep, with many source content for cited texts, along with summary content.\n",
      "    * \"Open Access\" all the way down!\n",
      "* We don't need icons or \"signals\" any more. Because it's clear, by default."
     ]
    },
    {
     "cell_type": "code",
     "collapsed": false,
     "input": [
      "%load https://raw.githubusercontent.com/wiki/wpoa/OA-signalling/data-flow.md"
     ],
     "language": "python",
     "metadata": {
      "slideshow": {
       "slide_type": "skip"
      }
     },
     "outputs": [],
     "prompt_number": 8
    },
    {
     "cell_type": "markdown",
     "metadata": {
      "slideshow": {
       "slide_type": "slide"
      }
     },
     "source": [
      "<div style=\"font-size:50px;line-height:80px;padding:50px;\">Data Flow</div>\n",
      "\n",
      "## Data Sources\n",
      "\n",
      "1. PMC\n",
      "1. Crossref\n",
      "1. Undetermined sources:\n",
      "    1. OA button\n",
      "    1. OCLC\n",
      "    1. ImpactStory\n",
      "1. Wikipedia: \n",
      "    1. [Most cited journals](https://en.wikipedia.org/wiki/Wikipedia:WikiProject_Academic_Journals/Journals_cited_by_Wikipedia/Popular1) on enwp\n",
      "    1. Most cited articles on enwp\n",
      "\n",
      "\n",
      "## Wikimedia Projects\n",
      "\n",
      "1. [Wikimedia Commons](https://commons.wikimedia.org/)\n",
      "1. Wikisources\n",
      "    1. Primarily [English](https://en.wikisource.org/) language.\n",
      "    1. Identify the 1000 most cited articles on enwp, import the suitably licensed ones into enws\n",
      "1. [WikiData](https://wikidata.org/)\n",
      "1. Wikipedias\n",
      "    1. Especially [English](https://en.wikipedia.org/) language.\n",
      "    1. Eventually, [all](https://wikipedia.org/) ;)\n",
      "1. [WikiTech](https://wikitech.wikimedia.org/) (for bots/tools)\n",
      "    1. Including Wikimedia Labs (virtual private servers).\n",
      "    1. Including Wikimedia [Tool Labs](https://tools.wmflabs.org/)\n",
      "\n",
      "## Phase 1\n",
      "\n",
      "1. Import media files from PMC to Wikimedia Commons\n",
      "    1. Will eventually trigger a record in Wikidata, but not now.\n",
      "    1. Add relevant categories to media files.\n",
      "1. Import full text content from PMC to Wikisource (or equivalent)\n",
      "    1. Wikisource item submission will automatically (in a delay) create a record in Wikidata\n",
      "    1. Embed article media from Wikimedia Commons.\n",
      "1. Import article license data from CrossRef to Wikidata.\n",
      "    1. Consider verifying CrossRef license data against PMC license data (flag inconsistencies).\n",
      "1. Bots run from Wikimedia Labs servers on English Wikipedia to:\n",
      "    1. Implement Cite DOI templates\n",
      "    1. Signal license in template\n",
      "    1. Signal content in template from:\n",
      "        1. Wikisource\n",
      "        1. Wikimedia Commons\n",
      "        1. Wikidata\n",
      "    1. Link to third party services in template to:\n",
      "        1. OA Button\n",
      "        1. ImpactStory\n",
      "        1. PeerLibrary\n",
      "        1. OCLC\n",
      "\n",
      "## Phase 2\n",
      "\n",
      "1. When importing media files to Wikimedia Commons, check consistency and formatting of article meta data from CrossRef.\n",
      "1. Check metadata between Wikimedia Commons files and WikiData records. \n",
      "1. Expand bots to run on all language Wikipedias.\n",
      "1. Include more experimental components to the Wikipedia cite template, such as dependent on services run on Wikimedia Labs servers:\n",
      "    1. E.g. alt-metrics\n"
     ]
    },
    {
     "cell_type": "code",
     "collapsed": false,
     "input": [
      "%load https://raw.githubusercontent.com/wiki/wpoa/OA-signalling/timeline.md"
     ],
     "language": "python",
     "metadata": {
      "slideshow": {
       "slide_type": "skip"
      }
     },
     "outputs": [],
     "prompt_number": 11
    },
    {
     "cell_type": "markdown",
     "metadata": {
      "slideshow": {
       "slide_type": "slide"
      }
     },
     "source": [
      "<div style=\"font-size:50px;line-height:80px;padding:50px;\">Timeline</div>\n",
      "\n",
      "Working within the following general timeline, to give this project better context / scope:\n",
      "\n",
      "* **Months 1-6:** [Phase 1](data-flow#wiki-phase-1) - development, prototype, community engagement, early implementation.\n",
      "* **6th month:** Wikimania!\n",
      "* **Year 1+:** [Phase 1 + Phase 2](data-flow#wiki-phase-2), more proposals, funding, coordination\n",
      "* **Years 1-5:** More projects, funding, partnerships, independent development\n",
      "* **Years 5-10:** WikiData & All Wikipedias, etc."
     ]
    },
    {
     "cell_type": "code",
     "collapsed": false,
     "input": [
      "%load https://raw.githubusercontent.com/wiki/wpoa/OA-signalling/schedule.md"
     ],
     "language": "python",
     "metadata": {
      "slideshow": {
       "slide_type": "skip"
      }
     },
     "outputs": [],
     "prompt_number": 12
    },
    {
     "cell_type": "markdown",
     "metadata": {
      "slideshow": {
       "slide_type": "slide"
      }
     },
     "source": [
      "<div style=\"font-size:50px;line-height:80px;padding:50px;\">Schedule</div>\n",
      "\n",
      "Setting particular tasks, time estimates, and corresponding milestones that works within the [timeline](timeline).\n",
      "\n",
      "##Milestones\n",
      "\n",
      "See project milestones here:\n",
      "https://github.com/Daniel-Mietchen/OA-signalling/issues/milestones\n",
      "\n",
      "For a \"nutshell\" quick-view of progress, see the following:\n",
      "* **[In-progress]** Parse & Import from PMC ([test articles](https://en.wikipedia.org/wiki/User:Daniel_Mietchen/Sandbox/JATS-to-MediaWiki))\n",
      "* **[In-progress]** OA Button Gadget\n",
      "* **[In-progress]** Citation Usage Data\n",
      "* **[In-progress]** CrossRef Proposal\n",
      "* **[Start]** New Bot (License & Citation)\n",
      "\n",
      "##Events\n",
      "\n",
      "* Hackathons\n",
      "    * Mediawiki Hackathon Zurich 5/9 - 5/11\n",
      "        * https://www.mediawiki.org/wiki/Z%C3%BCrich_Hackathon_2014\n",
      "    * (Cancelled) GLAM Mexico City 4/24 - 4/26\n",
      "        * https://meta.wikimedia.org/wiki/Grants:IdeaLab/GLAM_Wiki_2014\n",
      "* Wikiconference USA 5/30 - 6/1\n",
      "    * http://wikiconferenceusa.org/wiki/Main_Page\n",
      "* ARRIVAL in Berlin TXL (Max & Matt) 7/10\n",
      "    * Departure from SFO at 7/9 @ 6pm\n",
      "* Open Knowledge Festival (OKFest) Berlin 7/15 - 7/18\n",
      "    * CSVConf courtesy Max Ogden\n",
      "    * http://2014.okfestival.org/\n",
      "        * http://wiki.okfn.org/Open_Science/OKFest2014#Open_Access_signalling\n",
      "* Wikimania London http://wikimania2014.wikimedia.org/\n",
      "    * Free Culture Hack 7/7 - 7/8\n",
      "    * Open Data Hack 7/5 - 7/6\n",
      "    * Open Scholarship Hack (pre-Wikimania) 7/19 - 7/20\n",
      "    * Hackathon 8/6 - 8/10\n",
      "    * Programme 8/8 - 8/10\n",
      "        * https://wikimania2014.wikimedia.org/wiki/Submissions/Reform_of_citation_structure_for_all_Wikimedia_projects\n",
      "        * https://wikimania2014.wikimedia.org/wiki/Submissions/Marking_open-access_references_cited_on_Wikipedia\n",
      "* DEPARTURE from London LHR (Max & Matt) 8/12 @ 1pm\n",
      "    * Arrival in SFO 8/13\n",
      "* OpenSym Berlin 8/27 - 8/29\n",
      "    * http://www.opensym.org/os2014/\n",
      "\n",
      "##Reports\n",
      "\n",
      "Timeline for giving concrete reports of progress on discrete milestones and on community engagements, especially with various Wikimedia projects and other stakeholders.\n",
      "\n",
      "* 6/2 - Report 1 - Post-WikiConference USA\n",
      "* 7/19 - Report 2 - Post-Open Knowledge Festival\n",
      "* 8/11 - Report 3 - Post-WikiMania"
     ]
    },
    {
     "cell_type": "markdown",
     "metadata": {
      "slideshow": {
       "slide_type": "slide"
      }
     },
     "source": [
      "<div style=\"font-size:50px;line-height:80px;padding:50px;\">Next Steps</div>\n",
      "\n",
      "## You\n",
      "* Use the [Open Access Button](https://www.openaccessbutton.org/) (OAbutton)\n",
      "* Use `{{cite doi}}` template\n",
      "* Participate in icon / \"signal\" development and discussion.\n",
      "* Join us [on Github](https://github.com/wpoa)\n",
      "* Join us [on-Wiki](https://en.wikipedia.org/wiki/Wikipedia:WikiProject_Open_Access/Signalling_OA-ness)\n",
      "\n",
      "## Us\n",
      "* We'll build our bot and grow our community!"
     ]
    },
    {
     "cell_type": "code",
     "collapsed": false,
     "input": [
      "%load presentation_notes.md"
     ],
     "language": "python",
     "metadata": {
      "slideshow": {
       "slide_type": "skip"
      }
     },
     "outputs": [],
     "prompt_number": 5
    },
    {
     "cell_type": "markdown",
     "metadata": {
      "slideshow": {
       "slide_type": "skip"
      }
     },
     "source": [
      "# WikiProject Open Access - OA Signalling\n",
      "\n",
      "Presentation organized for 2014 WikiConference USA in New York City, New York.\n",
      "\n",
      "## Format\n",
      "\n",
      "* Hopefully written in markdown or similar plain-text, html-compatible format\n",
      "* Presented using iPython Notebook, or some other web-based alternative.\n",
      "** PDF fall-back is wise based on constraints of presentation room projector/computer.\n",
      "\n",
      "## Outcomes\n",
      "\n",
      "Not absolutes, but setting scope of expectations for the parties involved\n",
      "\n",
      "### Attendees / Participants\n",
      "\n",
      "* Basics\n",
      "    * Learn the history and basics about WikiProject Open Access and the OA Signalling project.\n",
      "        * Know the definition of Open Access\n",
      "        * Know how open access, the wikiproject, and the signalling project all fit in to the context of Wikipedia\n",
      "    * Become familiar with current demonstration of signalling under \"In a Nutshell\" section of project page on WP.\n",
      "* Status and Roadmap\n",
      "    * Be able to summarize the current status of the project.\n",
      "    * Review the currently planned flow of information, and how to work with existing communities to make it happen.\n",
      "    * Have an understanding of the general roadmap, including timeline/schedule and longer-term goals, for the project.\n",
      "* Participation Paths\n",
      "    * Learn the clear ways to participate in, build from, or otherwise lend support to this project.\n",
      "* Tools and Infrastructure\n",
      "    * Be able to define the tools being used to manage and build this project, and explain their use in context.\n",
      "    * Build a vocabulary to discuss projects of this general nature.\n",
      "        * E.g. include new Labs infrastructure, along with github, and wikipedia itself through the wikiproject.\n",
      "* Related Projects\n",
      "    * Hold an over-arching narrative of how this project fits into the wider theme of citations/references on WP.\n",
      "    * Maintain awareness of VisualEditor project component on reference management directions / potential / collaboration\n",
      "        * Zotero-server fetching via ajax requests in the browser.\n",
      "    * Become familiar with WikiData, its progress and emerging role for data across projects\n",
      "        * Scholarly works (open access) inclusivity\n",
      "    * OA Button\n",
      "    * New icon designs!\n",
      "* Hands-on\n",
      "    * Join WikiProject Open Access, or some other wikiproject.\n",
      "    * Sign up for github, or some other git hosting service like GitLab or Gitorious.\n",
      "    * Install git, and git hosting service client on your local computer.\n",
      "    * Introduction or advanced usage of PyWikiBot, python scripting with MediaWiki, programming generally, etc.\n",
      "* Extras\n",
      "    * Build basic comprehension of the \"hacker ethic\" w/r/t the nature of this project.\n",
      "\n",
      "### Presenters / Facilitators\n",
      "\n",
      "* Get an understanding of how the project is best communicated to Wiki-savvy _and_ general audiences.\n",
      "* Get updates about any existing projects that attendees know about, that we don't currently know.\n",
      "* Get feedback, both solicited and un-solicited from wiki-enthusiasts who attend WikiConference USA.\n",
      "    * Learn how to best respond to this feedback.\n",
      "    * Learn to incorporate this feedback into further plans, development, progress, etc.\n",
      "* Brainstorm ideas and overlap with other initiatives\n",
      "* Become comfortable opening doors to participate, as well as simply listening and benefiting from the contribution of participating in our session.\n",
      "\n",
      "## Free-form Summary\n",
      "\n",
      "Start off by getting familiar with the attendees. Isn't clear who and how many are going to join, but we should anticipate being flexible and scoping our time to the people who are present. Very few attendees promotes a closer, informal discussion. Many attendees may promote having a larger, more formal presentation component, as well as potentially small-group discussion or hands-on components. Generally it's important for us to cater to the experience, interests, and needs of the attendees. They will be able to provide us early, invaluable feedback on our project&mdash;even if that feedback is a lack of clarity or comprehension (implying, for example, that we should focus on clarity going forward).\n",
      "\n",
      "Overall, we should situate our project in the narrative of improving references / citations on Wikipedia. We're all about improving the experience of editing, and supporting the various communities of Wikipedia and its sister projects to create deep, connected, and flexibly consumed resources. We have focused our project on minimal goals in order to make the case for various small improvements that may one day be expanded into more comprehensive workflows. Our presentation should include a narrative arch:\n",
      "\n",
      "* What's the problem?\n",
      "* What we did we try in the past?\n",
      "* What worked, what didn't?\n",
      "* What are the solutions we see now?\n",
      "* What does the future look like?\n",
      "* What do we do starting now?\n",
      "\n",
      "## Outline\n",
      "\n",
      "1. Introductions\n",
      "    * What do you spend your time doing, On-wiki and off-wiki?\n",
      "1. Skill-level and familiarity assessment\n",
      "    * Raise your hand if:\n",
      "        * You are familiar with (wiki world):\n",
      "            * Wikipedia ;)\n",
      "            * WikiSource\n",
      "            * Wikimedia Commons\n",
      "            * WikiData\n",
      "            * Labs\n",
      "            * Scholarly publishing generally\n",
      "            * Open Access academic literature\n",
      "        * You know about Open Access\n",
      "        * You have heard about the OA-Signalling project\n",
      "        * You are a member of WikiProject Open Access\n",
      "        * You have heard of Wikiproject Open Access\n",
      "        * You have a working knowledge of (technical stuff):\n",
      "            * MediaWiki (wiki software)\n",
      "            * Bots for Wikipedia, other Wikimedia projects (various wares)\n",
      "            * Python (programming language)\n",
      "            * PyWikiBot (python library)\n",
      "            * XSLT (xml style templating)\n",
      "            * JATS (NLM xml format)\n",
      "1. WikiProject Open Access\n",
      "    * Open Access generally\n",
      "    * Wikipedia, WikiProjects, and the goals of WikiProject Open Access\n",
      "    * Signalling OA-ness\n",
      "1. Problems\n",
      "1. Solutions\n",
      "    * Previous attempts\n",
      "        * Successes\n",
      "        * Failures\n",
      "    * Current solutions\n",
      "1. Opportunities\n",
      "    * How OA-signalling project provides partial solution, uses opportunities, and opens up opportunities.\n",
      "    * Other projects opening opportunties here.\n",
      "1. The Future\n",
      "    * Visions\n",
      "    * Longer-term roadmap for OA-signalling and WikiProject Open Access\n",
      "1. Next Steps\n",
      "    * How to participate / support\n",
      "1. Hands-on Component\n",
      "    * Time-permitted workshopping based on areas of interest, skill.\n",
      "        * Install OA Button\n"
     ]
    }
   ],
   "metadata": {}
  }
 ]
}