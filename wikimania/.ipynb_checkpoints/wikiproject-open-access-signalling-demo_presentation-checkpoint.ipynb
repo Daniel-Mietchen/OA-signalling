{
 "metadata": {
  "celltoolbar": "Slideshow",
  "name": "",
  "signature": "sha256:e389faf50ac1459bfbece053b2a4846fbe4fd34a11bd2a54a9d6f177f1896616"
 },
 "nbformat": 3,
 "nbformat_minor": 0,
 "worksheets": [
  {
   "cells": [
    {
     "cell_type": "markdown",
     "metadata": {
      "slideshow": {
       "slide_type": "slide"
      }
     },
     "source": [
      "<div style=\"width:99%;margin:auto;\">\n",
      "![Imagine the books you were looking for in the library actually glowed!](images/Library-shelves-bibliographies-Graz.jpg)\n",
      "[Source](https://commons.wikimedia.org/wiki/File:Library-shelves-bibliographies-Graz.jpg)\n",
      "</div>"
     ]
    },
    {
     "cell_type": "markdown",
     "metadata": {
      "slideshow": {
       "slide_type": "slide"
      }
     },
     "source": [
      "<div style=\"width:99%;margin:auto;\">\n",
      "![Now imagine if you could know if the content in those books could be easily re-used on Wikipedia!](images/Library-shelves-bibliographies-Graz-icons.jpg)\n",
      "[Source](https://commons.wikimedia.org/wiki/File:Library-shelves-bibliographies-Graz-icons.jpg)\n",
      "</div>"
     ]
    },
    {
     "cell_type": "markdown",
     "metadata": {
      "slideshow": {
       "slide_type": "slide"
      }
     },
     "source": [
      "<h1>\"A fact is only as reliable as the ability to source that fact, and the ability to weigh carefully that source.\"<sup>[\\[1\\]](https://meta.wikimedia.org/wiki/WikiScholar#Motivation)</sup></h1>"
     ]
    },
    {
     "cell_type": "markdown",
     "metadata": {
      "slideshow": {
       "slide_type": "slide"
      }
     },
     "source": [
      "<h1>Introductions</h1>"
     ]
    },
    {
     "cell_type": "markdown",
     "metadata": {
      "slideshow": {
       "slide_type": "slide"
      }
     },
     "source": [
      "<h1>What perspectives <br/>are in the room?</h1>"
     ]
    },
    {
     "cell_type": "markdown",
     "metadata": {
      "slideshow": {
       "slide_type": "skip"
      }
     },
     "source": [
      "* Raise your hand if:\n",
      "    * You are familiar with (wiki world):\n",
      "        * Wikipedia ;)\n",
      "        * WikiSource\n",
      "        * Wikimedia Commons\n",
      "        * WikiData\n",
      "        * Labs\n",
      "        * Scholarly publishing generally\n",
      "        * Open Access academic literature\n",
      "    * You know about Open Access\n",
      "    * You have heard about the OA-Signalling project\n",
      "    * You are a member of WikiProject Open Access\n",
      "    * You have heard of Wikiproject Open Access\n",
      "    * You have a working knowledge of (technical stuff):\n",
      "        * MediaWiki (wiki software)\n",
      "        * Bots for Wikipedia, other Wikimedia projects (various wares)\n",
      "        * Python (programming language)\n",
      "        * PyWikiBot (python library)\n",
      "        * XSLT (xml style templating)\n",
      "        * JATS (NLM xml format)\n"
     ]
    },
    {
     "cell_type": "markdown",
     "metadata": {
      "slideshow": {
       "slide_type": "slide"
      }
     },
     "source": [
      "<h1>WikiProject Open Access <sup>[\\[1\\]](https://en.wikipedia.org/wiki/Wikipedia:WikiProject_Open_Access)</sup></h1>\n",
      "\n",
      "<h2>Goals</h2>\n",
      "1. Improve Wikimedia content with the help of Open Access materials.\n",
      "2. Improve coverage of Open Access and related topics."
     ]
    },
    {
     "cell_type": "markdown",
     "metadata": {
      "slideshow": {
       "slide_type": "slide"
      }
     },
     "source": [
      "<h1>Signalling Open Access References <sup>[\\[1\\]](https://en.wikipedia.org/wiki/Wikipedia:WikiProject_Open_Access/Signalling_OA-ness)</sup></h1>"
     ]
    },
    {
     "cell_type": "code",
     "collapsed": false,
     "input": [
      "from IPython.display import IFrame\n",
      "IFrame('https://en.wikipedia.org/wiki/Wikipedia:WikiProject_Open_Access/Wikimania2014/Malaria', width='100%', height=600)"
     ],
     "language": "python",
     "metadata": {
      "slideshow": {
       "slide_type": "slide"
      }
     },
     "outputs": [
      {
       "html": [
        "\n",
        "        <iframe\n",
        "            width=\"100%\"\n",
        "            height=600\"\n",
        "            src=\"https://en.wikipedia.org/wiki/Wikipedia:WikiProject_Open_Access/Wikimania2014/Malaria\"\n",
        "            frameborder=\"0\"\n",
        "            allowfullscreen\n",
        "        ></iframe>\n",
        "        "
       ],
       "metadata": {},
       "output_type": "pyout",
       "prompt_number": 50,
       "text": [
        "<IPython.lib.display.IFrame at 0x2e86990>"
       ]
      }
     ],
     "prompt_number": 50
    },
    {
     "cell_type": "markdown",
     "metadata": {
      "slideshow": {
       "slide_type": "slide"
      }
     },
     "source": [
      "#Next Steps\n",
      "\n",
      "* Join us [on EN:Wiki](https://en.wikipedia.org/wiki/Wikipedia:WikiProject_Open_Access/Signalling_OA-ness)\n",
      "* Join us [on Github](https://github.com/wpoa)"
     ]
    },
    {
     "cell_type": "markdown",
     "metadata": {
      "slideshow": {
       "slide_type": "slide"
      }
     },
     "source": [
      "# Thank You\n",
      "\n",
      "* [@notconfusing](https://twitter.com/notconfusing), [@evoMRI](https://twitter.com/evomri), [@wrought](https://twitter.com/wrought), \n",
      "\n",
      "* Max Klein, Daniel Mietchen, Matt Senate"
     ]
    },
    {
     "cell_type": "code",
     "collapsed": false,
     "input": [
      "from IPython.core.display import HTML  \n",
      "\n",
      "HTML(\"<style> \\\n",
      ".rendered_html { \\\n",
      "font-family: Sans-Serif; \\\n",
      "font-size: 24pt; \\\n",
      "line-height: 1; \\\n",
      "} \\\n",
      "\\\n",
      ".rendered_html li { \\\n",
      "line-height: 1.5; \\\n",
      "} \\\n",
      "\\\n",
      ".rendered_html h1{ \\\n",
      "margin: 2em 0 1em 0; \\\n",
      "padding-top: 100px; \\\n",
      "font-size: 48pt; \\\n",
      "line-height: 1.25; \\\n",
      "} \\\n",
      "\\\n",
      ".rendered_html h2{ \\\n",
      "margin: 2em 0 1em 0; \\\n",
      "font-size: 36pt; \\\n",
      "line-height: 1.25; \\\n",
      "} \\\n",
      "\\\n",
      ".input_prompt { \\\n",
      "font-family: Sans-Serif; \\\n",
      "} \\\n",
      "\\\n",
      ".CodeMirror-lines { \\\n",
      "font-family: Sans-Serif; \\\n",
      "} \\\n",
      "\\\n",
      ".output_area { \\\n",
      "font-family: Sans-Serif; \\\n",
      "} </style> \")"
     ],
     "language": "python",
     "metadata": {
      "slideshow": {
       "slide_type": "skip"
      }
     },
     "outputs": [
      {
       "html": [
        "<style> .rendered_html { font-family: Sans-Serif; font-size: 24pt; line-height: 1; } .rendered_html li { line-height: 1.5; } .rendered_html h1{ margin: 2em 0 1em 0; padding-top: 100px; font-size: 48pt; line-height: 1.25; } .rendered_html h2{ margin: 2em 0 1em 0; font-size: 36pt; line-height: 1.25; } .input_prompt { font-family: Sans-Serif; } .CodeMirror-lines { font-family: Sans-Serif; } .output_area { font-family: Sans-Serif; } </style> "
       ],
       "metadata": {},
       "output_type": "pyout",
       "prompt_number": 68,
       "text": [
        "<IPython.core.display.HTML at 0x2e86e50>"
       ]
      }
     ],
     "prompt_number": 68
    }
   ],
   "metadata": {}
  }
 ]
}