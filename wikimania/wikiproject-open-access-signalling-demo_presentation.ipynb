{
 "metadata": {
  "name": "",
  "signature": "sha256:fe0fb3aa48f5fc092306462766e1a0203f3c78c33ae150d47d3d0a4f07d3d48d"
 },
 "nbformat": 3,
 "nbformat_minor": 0,
 "worksheets": [
  {
   "cells": [
    {
     "cell_type": "markdown",
     "metadata": {
      "slideshow": {
       "slide_type": "slide"
      }
     },
     "source": [
      "<div style=\"width:99%;margin:auto;\">\n",
      "![Imagine the books you were looking for in the library actually glowed!](images/Library-shelves-bibliographies-Graz.jpg)\n",
      "[Source](https://commons.wikimedia.org/wiki/File:Library-shelves-bibliographies-Graz.jpg)\n",
      "</div>"
     ]
    },
    {
     "cell_type": "markdown",
     "metadata": {
      "slideshow": {
       "slide_type": "slide"
      }
     },
     "source": [
      "<div style=\"width:99%;margin:auto;\">\n",
      "![Now imagine if you could know if the content in those books could be easily re-used on Wikipedia!](images/Library-shelves-bibliographies-Graz-icons.jpg)\n",
      "[Source](https://commons.wikimedia.org/wiki/File:Library-shelves-bibliographies-Graz.jpg)\n",
      "</div>"
     ]
    },
    {
     "cell_type": "markdown",
     "metadata": {
      "slideshow": {
       "slide_type": "slide"
      }
     },
     "source": [
      "<h1>\"A fact is only as reliable as the ability to source that fact, and the ability to weigh carefully that source.\"<sup> [\\[1\\]](https://meta.wikimedia.org/wiki/WikiScholar#Motivation)</sup></h1>"
     ]
    },
    {
     "cell_type": "markdown",
     "metadata": {
      "slideshow": {
       "slide_type": "slide"
      }
     },
     "source": [
      "<h1>Introductions</h1>"
     ]
    },
    {
     "cell_type": "markdown",
     "metadata": {
      "slideshow": {
       "slide_type": "slide"
      }
     },
     "source": [
      "<h1>What perspectives <br/>are in the room?</h1>"
     ]
    },
    {
     "cell_type": "markdown",
     "metadata": {
      "slideshow": {
       "slide_type": "skip"
      }
     },
     "source": [
      "* Raise your hand if:\n",
      "    * You are familiar with (wiki world):\n",
      "        * Wikipedia ;)\n",
      "        * Wikisource\n",
      "        * Wikimedia Commons\n",
      "        * Wikidata\n",
      "        * Labs\n",
      "        * Scholarly publishing generally\n",
      "        * Open Access academic literature\n",
      "    * You know about Open Access\n",
      "    * You have heard about the OA-Signalling project\n",
      "    * You are a member of WikiProject Open Access\n",
      "    * You have heard of Wikiproject Open Access\n",
      "    * You have a working knowledge of (technical stuff):\n",
      "        * MediaWiki (wiki software)\n",
      "        * Bots for Wikipedia, other Wikimedia projects (various wares)\n",
      "        * Python (programming language)\n",
      "        * PyWikiBot (python library)\n",
      "        * XSLT (xml style templating)\n",
      "        * JATS (NLM xml format)\n"
     ]
    },
    {
     "cell_type": "markdown",
     "metadata": {
      "slideshow": {
       "slide_type": "slide"
      }
     },
     "source": [
      "<h1>WikiProject Open Access <sup>[\\[1\\]](https://en.wikipedia.org/wiki/Wikipedia:WikiProject_Open_Access)</sup></h1>\n",
      "\n",
      "<h2>Goals</h2>\n",
      "1. Improve Wikimedia content with the help of Open Access materials.\n",
      "2. Improve coverage of Open Access and related topics."
     ]
    },
    {
     "cell_type": "markdown",
     "metadata": {
      "slideshow": {
       "slide_type": "slide"
      }
     },
     "source": [
      "<h1>Signalling Open Access References <sup>[\\[1\\]](https://en.wikipedia.org/wiki/Wikipedia:WikiProject_Open_Access/Signalling_OA-ness)</sup></h1>"
     ]
    },
    {
     "cell_type": "code",
     "collapsed": false,
     "input": [
      "from IPython.display import IFrame\n",
      "IFrame('https://en.wikipedia.org/wiki/Wikipedia:WikiProject_Open_Access/Wikimania2014/Malaria', width='100%', height=600)"
     ],
     "language": "python",
     "metadata": {
      "slideshow": {
       "slide_type": "slide"
      }
     },
     "outputs": [
      {
       "html": [
        "\n",
        "        <iframe\n",
        "            width=\"100%\"\n",
        "            height=600\"\n",
        "            src=\"https://en.wikipedia.org/wiki/Wikipedia:WikiProject_Open_Access/Wikimania2014/Malaria\"\n",
        "            frameborder=\"0\"\n",
        "            allowfullscreen\n",
        "        ></iframe>\n",
        "        "
       ],
       "metadata": {},
       "output_type": "pyout",
       "prompt_number": 2,
       "text": [
        "<IPython.lib.display.IFrame at 0x1973fd0>"
       ]
      }
     ],
     "prompt_number": 2
    },
    {
     "cell_type": "markdown",
     "metadata": {
      "slideshow": {
       "slide_type": "slide"
      }
     },
     "source": [
      "#SALVE, SAND AND <br />RE-CITE-WORLD\n",
      "##(Alice's Adventure in Wonderland)"
     ]
    },
    {
     "cell_type": "markdown",
     "metadata": {
      "slideshow": {
       "slide_type": "slide"
      }
     },
     "source": [
      "#The story begins:\n",
      "![A tale about recurring Malaria](images/malaria0.png)"
     ]
    },
    {
     "cell_type": "markdown",
     "metadata": {
      "slideshow": {
       "slide_type": "slide"
      }
     },
     "source": [
      "#Actually it's a rehashing and remixing of older stories\n",
      "![Many citations](images/malaria1.png)"
     ]
    },
    {
     "cell_type": "markdown",
     "metadata": {
      "slideshow": {
       "slide_type": "slide"
      }
     },
     "source": [
      "#This particular source parody has many chapters\n",
      "![White 2011](images/malaria2.png)"
     ]
    },
    {
     "cell_type": "markdown",
     "metadata": {
      "slideshow": {
       "slide_type": "slide"
      }
     },
     "source": [
      "#It's Free To Read\n",
      "+ Like Alice's \n",
      "![](images/malaria2_0.png)"
     ]
    },
    {
     "cell_type": "markdown",
     "metadata": {
      "slideshow": {
       "slide_type": "slide"
      }
     },
     "source": [
      "#It has a License\n",
      "+ It's CC-BY, which Carol no longer insists on\n",
      "![](images/malaria2_1.png)"
     ]
    },
    {
     "cell_type": "markdown",
     "metadata": {
      "slideshow": {
       "slide_type": "slide"
      }
     },
     "source": [
      "#You can read it on Wikisource\n",
      "+ This is important for \"deep-liking\"\n",
      "+ And Wikipedia-Zero Programs\n",
      "+ Author pages\n",
      "![](images/malaria2_2.png)"
     ]
    },
    {
     "cell_type": "markdown",
     "metadata": {
      "slideshow": {
       "slide_type": "slide"
      }
     },
     "source": [
      "#And for those who like to argue Semantics\n",
      "+ Wikidata can keep article usage statistics easily\n",
      "![](images/malaria2_3.png)"
     ]
    },
    {
     "cell_type": "markdown",
     "metadata": {
      "slideshow": {
       "slide_type": "slide"
      }
     },
     "source": [
      "#The Rabbit Hole PMC\n",
      "+ We first travel to a foreign land\n",
      "![](images/malaria4.png)"
     ]
    },
    {
     "cell_type": "markdown",
     "metadata": {
      "slideshow": {
       "slide_type": "slide"
      }
     },
     "source": [
      "#Enter the Rabbit Hole <br/>Wikidata\n",
      "+ We made a web-tool where you can throw a DOI\n",
      "![](images/malaria3.png)"
     ]
    },
    {
     "cell_type": "markdown",
     "metadata": {
      "slideshow": {
       "slide_type": "slide"
      }
     },
     "source": [
      "#The Rabbit Hole\n",
      "+ We find cakes there that expand XML representations\n",
      "![](images/malaria4.png)"
     ]
    },
    {
     "cell_type": "markdown",
     "metadata": {
      "slideshow": {
       "slide_type": "slide"
      }
     },
     "source": [
      "#Transforming To Get Through The Doorway\n",
      "+ JATS-to-Mediawiki converts to Wikitext ([github link](https://github.com/wpoa/JATS-to-Mediawiki))\n",
      "+ Thanks to [Klortho](https://github.com/Klortho)\n",
      "![](images/malaria5.png)"
     ]
    },
    {
     "cell_type": "markdown",
     "metadata": {
      "slideshow": {
       "slide_type": "slide"
      }
     },
     "source": [
      "#Wikisource\n",
      "> \"They're dreadfully fond of beheading people here; the great wonder is, that there's any one left alive!\"\n",
      "\n",
      "> + _a joke_&mdash;our bot was blocked..."
     ]
    },
    {
     "cell_type": "markdown",
     "metadata": {
      "slideshow": {
       "slide_type": "slide"
      }
     },
     "source": [
      "#Wikisource\n",
      "> 'I can't explain myself, I'm afraid, sir' said Alice, 'because I'm not myself, you see.'"
     ]
    },
    {
     "cell_type": "markdown",
     "metadata": {
      "slideshow": {
       "slide_type": "slide"
      }
     },
     "source": [
      "#Wikisource\n",
      "+ In fact, we can make sure we can always explain ourselves. A way to prevent link rot, is to host sources ourselves.\n",
      "+ 6 years is the average lifespan of a URL (according to CrossRef)\n",
      "![](images/malaria6.png)"
     ]
    },
    {
     "cell_type": "markdown",
     "metadata": {
      "slideshow": {
       "slide_type": "slide"
      }
     },
     "source": [
      "#Wikisource\n",
      "+ And we can also handle the images of the articles:\n",
      "![](images/malaria7.png)"
     ]
    },
    {
     "cell_type": "markdown",
     "metadata": {
      "slideshow": {
       "slide_type": "slide"
      }
     },
     "source": [
      "#Commons\n",
      "> Alice waited till the eyes appeared, and then nodded. 'It's no use speaking to it,' she thought, 'till its ears have come, or at least one of them.'"
     ]
    },
    {
     "cell_type": "markdown",
     "metadata": {
      "slideshow": {
       "slide_type": "slide"
      }
     },
     "source": [
      "#Commons\n",
      "+ All the parts of the Cheshire catare always displayed in full.\n",
      "+ It's always fun to see what you get. (Check my twitter for Peruvian Frogs)\n",
      "![](images/malaria8.png)"
     ]
    },
    {
     "cell_type": "markdown",
     "metadata": {
      "slideshow": {
       "slide_type": "slide"
      }
     },
     "source": [
      "#Wikidata\n",
      "> The chief difficulty Alice found at first was in managing her flamingo"
     ]
    },
    {
     "cell_type": "markdown",
     "metadata": {
      "slideshow": {
       "slide_type": "slide"
      }
     },
     "source": [
      "#Wikidata\n",
      "+ Thankfully we made our own flamingo manager\n",
      "![](images/malaria9.png)"
     ]
    },
    {
     "cell_type": "markdown",
     "metadata": {
      "slideshow": {
       "slide_type": "slide"
      }
     },
     "source": [
      "#Wikidata\n",
      "+ A semantic flamingo manager\n",
      "![](images/malaria10.png)"
     ]
    },
    {
     "cell_type": "markdown",
     "metadata": {
      "slideshow": {
       "slide_type": "slide"
      }
     },
     "source": [
      "#Wikidata\n",
      "+ A hyperlinked flamingo universe\n",
      "+ Publishers and statistician will love this\n",
      "![](images/malaria11.png)"
     ]
    },
    {
     "cell_type": "markdown",
     "metadata": {
      "slideshow": {
       "slide_type": "slide"
      }
     },
     "source": [
      "#Next Steps\n",
      "\n",
      "* Join us [on EN:Wiki](https://en.wikipedia.org/wiki/Wikipedia:WikiProject_Open_Access/Signalling_OA-ness)\n",
      "* Join us [on Github](https://github.com/wpoa)"
     ]
    },
    {
     "cell_type": "markdown",
     "metadata": {
      "slideshow": {
       "slide_type": "slide"
      }
     },
     "source": [
      "# Thank You\n",
      "\n",
      "* [@notconfusing](https://twitter.com/notconfusing), [@EvoMRI](https://twitter.com/Evomri), [@wrought](https://twitter.com/wrought), \n",
      "\n",
      "* Max Klein, Daniel Mietchen, Matt Senate"
     ]
    },
    {
     "cell_type": "code",
     "collapsed": false,
     "input": [
      "from IPython.core.display import HTML  \n",
      "\n",
      "HTML(\"<style> \\\n",
      ".rendered_html, .rendered_html p { \\\n",
      "font-family: Sans-Serif; \\\n",
      "font-size: 22pt; \\\n",
      "line-height: 1.1; \\\n",
      "} \\\n",
      ".rendered_html blockquote p { \\\n",
      "font-style: italic; \\\n",
      "font-size:32pt; \\\n",
      "color: #666; \\\n",
      "line-height: 1.3; \\\n",
      "} \\\n",
      "\\\n",
      ".rendered_html li { \\\n",
      "line-height: 1.5; \\\n",
      "} \\\n",
      "\\\n",
      ".rendered_html h1{ \\\n",
      "margin: 2em 0 1em 0; \\\n",
      "padding-top: 65px; \\\n",
      "font-size: 42pt; \\\n",
      "line-height: 1.25; \\\n",
      "} \\\n",
      "\\\n",
      ".rendered_html h2{ \\\n",
      "margin: 2em 0 1em 0; \\\n",
      "font-size: 36pt; \\\n",
      "line-height: 1.25; \\\n",
      "} \\\n",
      "\\\n",
      ".input_prompt { \\\n",
      "font-family: Sans-Serif; \\\n",
      "} \\\n",
      "\\\n",
      ".CodeMirror-lines { \\\n",
      "font-family: Sans-Serif; \\\n",
      "} \\\n",
      "\\\n",
      ".output_area { \\\n",
      "font-family: Sans-Serif; \\\n",
      "} </style> \")"
     ],
     "language": "python",
     "metadata": {
      "slideshow": {
       "slide_type": "skip"
      }
     },
     "outputs": [
      {
       "html": [
        "<style> .rendered_html, .rendered_html p { font-family: Sans-Serif; font-size: 22pt; line-height: 1.1; } .rendered_html blockquote p { font-style: italic; font-size:32pt; color: #666; line-height: 1.3; } .rendered_html li { line-height: 1.5; } .rendered_html h1{ margin: 2em 0 1em 0; padding-top: 65px; font-size: 42pt; line-height: 1.25; } .rendered_html h2{ margin: 2em 0 1em 0; font-size: 36pt; line-height: 1.25; } .input_prompt { font-family: Sans-Serif; } .CodeMirror-lines { font-family: Sans-Serif; } .output_area { font-family: Sans-Serif; } </style> "
       ],
       "metadata": {},
       "output_type": "pyout",
       "prompt_number": 16,
       "text": [
        "<IPython.core.display.HTML at 0x17f9790>"
       ]
      }
     ],
     "prompt_number": 16
    }
   ],
   "metadata": {}
  }
 ]
}
